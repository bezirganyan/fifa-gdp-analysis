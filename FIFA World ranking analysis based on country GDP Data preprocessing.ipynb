{
 "cells": [
  {
   "cell_type": "markdown",
   "metadata": {},
   "source": [
    "## FIFA World ranking analysis based on country GDP Data preprocessing"
   ]
  },
  {
   "cell_type": "markdown",
   "metadata": {},
   "source": [
    "In this Notebook we will do Data Preprocessing, and later that data will be used by our Dash application."
   ]
  },
  {
   "cell_type": "markdown",
   "metadata": {},
   "source": [
    "First let's import our libraries"
   ]
  },
  {
   "cell_type": "code",
   "execution_count": 1,
   "metadata": {},
   "outputs": [],
   "source": [
    "import pandas as pd\n",
    "from bs4 import BeautifulSoup\n",
    "import urllib.request\n",
    "from io import StringIO\n",
    "import re\n",
    "import numpy as np"
   ]
  },
  {
   "cell_type": "markdown",
   "metadata": {},
   "source": [
    "### Getting the Data"
   ]
  },
  {
   "cell_type": "markdown",
   "metadata": {},
   "source": [
    "One of our datasets is downloaded from kaggle.com, which we will read into oandas DataFrame below, the other one we will scrape from the web.\n",
    "\n",
    "The one downloaded is the FIFA Ranking of the countries from 1993, let's see what it looks like"
   ]
  },
  {
   "cell_type": "code",
   "execution_count": 2,
   "metadata": {},
   "outputs": [],
   "source": [
    "fifa = pd.read_csv(\"fifa_ranking.csv\")"
   ]
  },
  {
   "cell_type": "code",
   "execution_count": 3,
   "metadata": {
    "scrolled": true
   },
   "outputs": [
    {
     "data": {
      "text/html": [
       "<div>\n",
       "<style scoped>\n",
       "    .dataframe tbody tr th:only-of-type {\n",
       "        vertical-align: middle;\n",
       "    }\n",
       "\n",
       "    .dataframe tbody tr th {\n",
       "        vertical-align: top;\n",
       "    }\n",
       "\n",
       "    .dataframe thead th {\n",
       "        text-align: right;\n",
       "    }\n",
       "</style>\n",
       "<table border=\"1\" class=\"dataframe\">\n",
       "  <thead>\n",
       "    <tr style=\"text-align: right;\">\n",
       "      <th></th>\n",
       "      <th>rank</th>\n",
       "      <th>country_full</th>\n",
       "      <th>country_abrv</th>\n",
       "      <th>total_points</th>\n",
       "      <th>previous_points</th>\n",
       "      <th>rank_change</th>\n",
       "      <th>cur_year_avg</th>\n",
       "      <th>cur_year_avg_weighted</th>\n",
       "      <th>last_year_avg</th>\n",
       "      <th>last_year_avg_weighted</th>\n",
       "      <th>two_year_ago_avg</th>\n",
       "      <th>two_year_ago_weighted</th>\n",
       "      <th>three_year_ago_avg</th>\n",
       "      <th>three_year_ago_weighted</th>\n",
       "      <th>confederation</th>\n",
       "      <th>rank_date</th>\n",
       "    </tr>\n",
       "  </thead>\n",
       "  <tbody>\n",
       "    <tr>\n",
       "      <th>0</th>\n",
       "      <td>1</td>\n",
       "      <td>Germany</td>\n",
       "      <td>GER</td>\n",
       "      <td>0.0</td>\n",
       "      <td>57</td>\n",
       "      <td>0</td>\n",
       "      <td>0.0</td>\n",
       "      <td>0.0</td>\n",
       "      <td>0.0</td>\n",
       "      <td>0.0</td>\n",
       "      <td>0.0</td>\n",
       "      <td>0.0</td>\n",
       "      <td>0.0</td>\n",
       "      <td>0.0</td>\n",
       "      <td>UEFA</td>\n",
       "      <td>1993-08-08</td>\n",
       "    </tr>\n",
       "    <tr>\n",
       "      <th>1</th>\n",
       "      <td>2</td>\n",
       "      <td>Italy</td>\n",
       "      <td>ITA</td>\n",
       "      <td>0.0</td>\n",
       "      <td>57</td>\n",
       "      <td>0</td>\n",
       "      <td>0.0</td>\n",
       "      <td>0.0</td>\n",
       "      <td>0.0</td>\n",
       "      <td>0.0</td>\n",
       "      <td>0.0</td>\n",
       "      <td>0.0</td>\n",
       "      <td>0.0</td>\n",
       "      <td>0.0</td>\n",
       "      <td>UEFA</td>\n",
       "      <td>1993-08-08</td>\n",
       "    </tr>\n",
       "    <tr>\n",
       "      <th>2</th>\n",
       "      <td>3</td>\n",
       "      <td>Switzerland</td>\n",
       "      <td>SUI</td>\n",
       "      <td>0.0</td>\n",
       "      <td>50</td>\n",
       "      <td>9</td>\n",
       "      <td>0.0</td>\n",
       "      <td>0.0</td>\n",
       "      <td>0.0</td>\n",
       "      <td>0.0</td>\n",
       "      <td>0.0</td>\n",
       "      <td>0.0</td>\n",
       "      <td>0.0</td>\n",
       "      <td>0.0</td>\n",
       "      <td>UEFA</td>\n",
       "      <td>1993-08-08</td>\n",
       "    </tr>\n",
       "    <tr>\n",
       "      <th>3</th>\n",
       "      <td>4</td>\n",
       "      <td>Sweden</td>\n",
       "      <td>SWE</td>\n",
       "      <td>0.0</td>\n",
       "      <td>55</td>\n",
       "      <td>0</td>\n",
       "      <td>0.0</td>\n",
       "      <td>0.0</td>\n",
       "      <td>0.0</td>\n",
       "      <td>0.0</td>\n",
       "      <td>0.0</td>\n",
       "      <td>0.0</td>\n",
       "      <td>0.0</td>\n",
       "      <td>0.0</td>\n",
       "      <td>UEFA</td>\n",
       "      <td>1993-08-08</td>\n",
       "    </tr>\n",
       "    <tr>\n",
       "      <th>4</th>\n",
       "      <td>5</td>\n",
       "      <td>Argentina</td>\n",
       "      <td>ARG</td>\n",
       "      <td>0.0</td>\n",
       "      <td>51</td>\n",
       "      <td>5</td>\n",
       "      <td>0.0</td>\n",
       "      <td>0.0</td>\n",
       "      <td>0.0</td>\n",
       "      <td>0.0</td>\n",
       "      <td>0.0</td>\n",
       "      <td>0.0</td>\n",
       "      <td>0.0</td>\n",
       "      <td>0.0</td>\n",
       "      <td>CONMEBOL</td>\n",
       "      <td>1993-08-08</td>\n",
       "    </tr>\n",
       "  </tbody>\n",
       "</table>\n",
       "</div>"
      ],
      "text/plain": [
       "   rank country_full country_abrv  total_points  previous_points  rank_change  \\\n",
       "0     1      Germany          GER           0.0               57            0   \n",
       "1     2        Italy          ITA           0.0               57            0   \n",
       "2     3  Switzerland          SUI           0.0               50            9   \n",
       "3     4       Sweden          SWE           0.0               55            0   \n",
       "4     5    Argentina          ARG           0.0               51            5   \n",
       "\n",
       "   cur_year_avg  cur_year_avg_weighted  last_year_avg  last_year_avg_weighted  \\\n",
       "0           0.0                    0.0            0.0                     0.0   \n",
       "1           0.0                    0.0            0.0                     0.0   \n",
       "2           0.0                    0.0            0.0                     0.0   \n",
       "3           0.0                    0.0            0.0                     0.0   \n",
       "4           0.0                    0.0            0.0                     0.0   \n",
       "\n",
       "   two_year_ago_avg  two_year_ago_weighted  three_year_ago_avg  \\\n",
       "0               0.0                    0.0                 0.0   \n",
       "1               0.0                    0.0                 0.0   \n",
       "2               0.0                    0.0                 0.0   \n",
       "3               0.0                    0.0                 0.0   \n",
       "4               0.0                    0.0                 0.0   \n",
       "\n",
       "   three_year_ago_weighted confederation   rank_date  \n",
       "0                      0.0          UEFA  1993-08-08  \n",
       "1                      0.0          UEFA  1993-08-08  \n",
       "2                      0.0          UEFA  1993-08-08  \n",
       "3                      0.0          UEFA  1993-08-08  \n",
       "4                      0.0      CONMEBOL  1993-08-08  "
      ]
     },
     "execution_count": 3,
     "metadata": {},
     "output_type": "execute_result"
    }
   ],
   "source": [
    "fifa.head()"
   ]
  },
  {
   "cell_type": "markdown",
   "metadata": {},
   "source": [
    "Now let's scrape the other dataset from wikipedia. For that we will use Beautiful Soup library."
   ]
  },
  {
   "cell_type": "code",
   "execution_count": 4,
   "metadata": {},
   "outputs": [],
   "source": [
    "def make_soup(url):\n",
    "    thepage=urllib.request.urlopen(url)\n",
    "    soupdata=BeautifulSoup(thepage, \"html.parser\")\n",
    "    return soupdata"
   ]
  },
  {
   "cell_type": "code",
   "execution_count": 5,
   "metadata": {},
   "outputs": [],
   "source": [
    "soup = make_soup(\"https://en.wikipedia.org/wiki/List_of_countries_by_past_and_projected_GDP_(nominal)\")"
   ]
  },
  {
   "cell_type": "code",
   "execution_count": 6,
   "metadata": {
    "scrolled": true
   },
   "outputs": [],
   "source": [
    "def create_csv(table):\n",
    "    countries_data_saved = \"\"\n",
    "    for record in table.findAll('tr'):\n",
    "        countries_data = \"\"\n",
    "        for data in record.findAll('th'):\n",
    "            countries_data = countries_data + \"_\" + data.text\n",
    "        for data in record.findAll('td'):\n",
    "            countries_data = countries_data + \"_\" + data.text\n",
    "        countries_data_saved = countries_data_saved + countries_data[1:]\n",
    "\n",
    "    countries_data_saved = countries_data_saved.replace(\",\", \"\")\n",
    "    countries_data_saved = countries_data_saved.replace(\"\\xa0\", \"\")\n",
    "    countries_data_saved = countries_data_saved.replace(\"_\", \",\")\n",
    "    \n",
    "    return countries_data_saved\n",
    "    \n",
    "\n",
    "tables = soup.find_all('table', class_=\"wikitable\")\n",
    "csv1 = create_csv(tables[1])\n",
    "countries_1 = pd.read_csv(StringIO(csv1))\n",
    "\n",
    "csv2 = create_csv(tables[3])\n",
    "countries_2 = pd.read_csv(StringIO(csv2))\n",
    "\n",
    "csv3 = create_csv(tables[5])\n",
    "countries_3 = pd.read_csv(StringIO(csv3))\n",
    "\n",
    "csv4 = create_csv(tables[7])\n",
    "countries_4 = pd.read_csv(StringIO(csv4))"
   ]
  },
  {
   "cell_type": "code",
   "execution_count": 7,
   "metadata": {},
   "outputs": [],
   "source": [
    "countries = pd.merge(countries_1.drop_duplicates(), countries_2.drop_duplicates(), on='Country (or dependent territory)', validate=\"one_to_one\", how=\"inner\")\n",
    "countries = pd.merge(countries, countries_3.drop_duplicates(), on='Country (or dependent territory)', validate=\"one_to_one\", how=\"inner\")\n",
    "countries = pd.merge(countries, countries_4.drop_duplicates(subset='Country (or dependent territory)', keep=\"last\"), on='Country (or dependent territory)', validate=\"one_to_one\", how=\"inner\")\n",
    "\n",
    "countries = pd.melt(countries, id_vars=['Country (or dependent territory)'], var_name='year', value_name='gdp')\n",
    "countries.columns = [\"country\", \"year\", \"gdp\"]"
   ]
  },
  {
   "cell_type": "markdown",
   "metadata": {},
   "source": [
    "### Data Cleaning"
   ]
  },
  {
   "cell_type": "markdown",
   "metadata": {},
   "source": [
    "Now let's clean the datasets. At first let's remove month and day from the date of FIFA datase, and do type conversions."
   ]
  },
  {
   "cell_type": "code",
   "execution_count": 8,
   "metadata": {},
   "outputs": [],
   "source": [
    "fifa.rank_date = fifa.rank_date.apply(lambda x: re.sub(r'-[0-9]{2}-[0-9]{2}', \"\", x))\n",
    "fifa.rank_date = fifa.rank_date.astype(int)\n",
    "countries.year = countries.year.astype(int)"
   ]
  },
  {
   "cell_type": "markdown",
   "metadata": {},
   "source": [
    "Now, since FIFA dataset contains Rankings for years 1993-2018, we need to remove valued from Countried dataset that are out from that scope"
   ]
  },
  {
   "cell_type": "code",
   "execution_count": 9,
   "metadata": {},
   "outputs": [],
   "source": [
    "countries = countries[(countries.year >= 1993) & (countries.year <= 2018)]"
   ]
  },
  {
   "cell_type": "markdown",
   "metadata": {},
   "source": [
    "Since we have several rank values in FIFA Dataset for the same country and same year, we will keep only the mean of the rank for several values."
   ]
  },
  {
   "cell_type": "code",
   "execution_count": 10,
   "metadata": {},
   "outputs": [],
   "source": [
    "fifa = fifa.groupby(['rank_date', \"country_full\"], as_index=False)['rank'].mean()\n",
    "fifa.columns.values[1] = 'country'\n",
    "fifa.columns.values[0] = 'year'"
   ]
  },
  {
   "cell_type": "markdown",
   "metadata": {},
   "source": [
    "There are Countries that are present only in one of the datasets, let's remove them"
   ]
  },
  {
   "cell_type": "code",
   "execution_count": 11,
   "metadata": {},
   "outputs": [],
   "source": [
    "combined = fifa.merge(countries, on=[\"country\", \"year\"], how='left', indicator=True, validate='one_to_one')\n",
    "fifa = fifa[combined['_merge'] == 'both']"
   ]
  },
  {
   "cell_type": "code",
   "execution_count": 12,
   "metadata": {},
   "outputs": [],
   "source": [
    "combined = countries.merge(fifa, on=[\"country\", \"year\"], how='left', indicator=True, validate='one_to_one')\n",
    "countries.reset_index(inplace=True, col_fill=False)\n",
    "countries = countries[combined['_merge'] == 'both']"
   ]
  },
  {
   "cell_type": "markdown",
   "metadata": {},
   "source": [
    "Let's see the datasets we got"
   ]
  },
  {
   "cell_type": "code",
   "execution_count": 19,
   "metadata": {},
   "outputs": [
    {
     "data": {
      "text/html": [
       "<div>\n",
       "<style scoped>\n",
       "    .dataframe tbody tr th:only-of-type {\n",
       "        vertical-align: middle;\n",
       "    }\n",
       "\n",
       "    .dataframe tbody tr th {\n",
       "        vertical-align: top;\n",
       "    }\n",
       "\n",
       "    .dataframe thead th {\n",
       "        text-align: right;\n",
       "    }\n",
       "</style>\n",
       "<table border=\"1\" class=\"dataframe\">\n",
       "  <thead>\n",
       "    <tr style=\"text-align: right;\">\n",
       "      <th></th>\n",
       "      <th>index</th>\n",
       "      <th>country</th>\n",
       "      <th>year</th>\n",
       "      <th>gdp</th>\n",
       "    </tr>\n",
       "  </thead>\n",
       "  <tbody>\n",
       "    <tr>\n",
       "      <th>1</th>\n",
       "      <td>2523</td>\n",
       "      <td>Albania</td>\n",
       "      <td>1993</td>\n",
       "      <td>1461.0</td>\n",
       "    </tr>\n",
       "    <tr>\n",
       "      <th>2</th>\n",
       "      <td>2524</td>\n",
       "      <td>Algeria</td>\n",
       "      <td>1993</td>\n",
       "      <td>50963.0</td>\n",
       "    </tr>\n",
       "    <tr>\n",
       "      <th>3</th>\n",
       "      <td>2525</td>\n",
       "      <td>Angola</td>\n",
       "      <td>1993</td>\n",
       "      <td>6095.0</td>\n",
       "    </tr>\n",
       "    <tr>\n",
       "      <th>4</th>\n",
       "      <td>2526</td>\n",
       "      <td>Antigua and Barbuda</td>\n",
       "      <td>1993</td>\n",
       "      <td>535.0</td>\n",
       "    </tr>\n",
       "    <tr>\n",
       "      <th>5</th>\n",
       "      <td>2527</td>\n",
       "      <td>Argentina</td>\n",
       "      <td>1993</td>\n",
       "      <td>256365.0</td>\n",
       "    </tr>\n",
       "  </tbody>\n",
       "</table>\n",
       "</div>"
      ],
      "text/plain": [
       "   index              country  year       gdp\n",
       "1   2523              Albania  1993    1461.0\n",
       "2   2524              Algeria  1993   50963.0\n",
       "3   2525               Angola  1993    6095.0\n",
       "4   2526  Antigua and Barbuda  1993     535.0\n",
       "5   2527            Argentina  1993  256365.0"
      ]
     },
     "execution_count": 19,
     "metadata": {},
     "output_type": "execute_result"
    }
   ],
   "source": [
    "countries.head()"
   ]
  },
  {
   "cell_type": "code",
   "execution_count": 18,
   "metadata": {},
   "outputs": [
    {
     "data": {
      "text/html": [
       "<div>\n",
       "<style scoped>\n",
       "    .dataframe tbody tr th:only-of-type {\n",
       "        vertical-align: middle;\n",
       "    }\n",
       "\n",
       "    .dataframe tbody tr th {\n",
       "        vertical-align: top;\n",
       "    }\n",
       "\n",
       "    .dataframe thead th {\n",
       "        text-align: right;\n",
       "    }\n",
       "</style>\n",
       "<table border=\"1\" class=\"dataframe\">\n",
       "  <thead>\n",
       "    <tr style=\"text-align: right;\">\n",
       "      <th></th>\n",
       "      <th>year</th>\n",
       "      <th>country</th>\n",
       "      <th>rank</th>\n",
       "    </tr>\n",
       "  </thead>\n",
       "  <tbody>\n",
       "    <tr>\n",
       "      <th>0</th>\n",
       "      <td>1993</td>\n",
       "      <td>Albania</td>\n",
       "      <td>91.8</td>\n",
       "    </tr>\n",
       "    <tr>\n",
       "      <th>1</th>\n",
       "      <td>1993</td>\n",
       "      <td>Algeria</td>\n",
       "      <td>32.6</td>\n",
       "    </tr>\n",
       "    <tr>\n",
       "      <th>2</th>\n",
       "      <td>1993</td>\n",
       "      <td>Angola</td>\n",
       "      <td>97.4</td>\n",
       "    </tr>\n",
       "    <tr>\n",
       "      <th>3</th>\n",
       "      <td>1993</td>\n",
       "      <td>Antigua and Barbuda</td>\n",
       "      <td>125.8</td>\n",
       "    </tr>\n",
       "    <tr>\n",
       "      <th>4</th>\n",
       "      <td>1993</td>\n",
       "      <td>Argentina</td>\n",
       "      <td>8.6</td>\n",
       "    </tr>\n",
       "  </tbody>\n",
       "</table>\n",
       "</div>"
      ],
      "text/plain": [
       "   year              country   rank\n",
       "0  1993              Albania   91.8\n",
       "1  1993              Algeria   32.6\n",
       "2  1993               Angola   97.4\n",
       "3  1993  Antigua and Barbuda  125.8\n",
       "4  1993            Argentina    8.6"
      ]
     },
     "execution_count": 18,
     "metadata": {},
     "output_type": "execute_result"
    }
   ],
   "source": [
    "fifa.head()"
   ]
  },
  {
   "cell_type": "markdown",
   "metadata": {},
   "source": [
    "Now let's Save the datsets into CSVs"
   ]
  },
  {
   "cell_type": "code",
   "execution_count": 15,
   "metadata": {},
   "outputs": [],
   "source": [
    "fifa.to_csv(\"fifa_ranking_preprocessed.csv\")\n",
    "countries.to_csv(\"gdp_preprocessed.csv\")"
   ]
  },
  {
   "cell_type": "markdown",
   "metadata": {},
   "source": [
    "This data will now be used in our Dash applicaion"
   ]
  }
 ],
 "metadata": {
  "kernelspec": {
   "display_name": "Python 3",
   "language": "python",
   "name": "python3"
  },
  "language_info": {
   "codemirror_mode": {
    "name": "ipython",
    "version": 3
   },
   "file_extension": ".py",
   "mimetype": "text/x-python",
   "name": "python",
   "nbconvert_exporter": "python",
   "pygments_lexer": "ipython3",
   "version": "3.6.5"
  }
 },
 "nbformat": 4,
 "nbformat_minor": 2
}
